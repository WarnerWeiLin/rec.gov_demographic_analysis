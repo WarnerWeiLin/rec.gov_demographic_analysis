{
 "cells": [
  {
   "cell_type": "code",
   "execution_count": 48,
   "metadata": {},
   "outputs": [
    {
     "name": "stdout",
     "output_type": "stream",
     "text": [
      "Requirement already satisfied: folium in /opt/conda/lib/python3.7/site-packages (0.10.0)\n",
      "Requirement already satisfied: numpy in /opt/conda/lib/python3.7/site-packages (from folium) (1.17.0)\n",
      "Requirement already satisfied: branca>=0.3.0 in /opt/conda/lib/python3.7/site-packages (from folium) (0.3.1)\n",
      "Requirement already satisfied: jinja2>=2.9 in /opt/conda/lib/python3.7/site-packages (from folium) (2.10.1)\n",
      "Requirement already satisfied: requests in /opt/conda/lib/python3.7/site-packages (from folium) (2.22.0)\n",
      "Requirement already satisfied: six in /opt/conda/lib/python3.7/site-packages (from branca>=0.3.0->folium) (1.12.0)\n",
      "Requirement already satisfied: MarkupSafe>=0.23 in /opt/conda/lib/python3.7/site-packages (from jinja2>=2.9->folium) (1.1.1)\n",
      "Requirement already satisfied: chardet<3.1.0,>=3.0.2 in /opt/conda/lib/python3.7/site-packages (from requests->folium) (3.0.4)\n",
      "Requirement already satisfied: idna<2.9,>=2.5 in /opt/conda/lib/python3.7/site-packages (from requests->folium) (2.8)\n",
      "Requirement already satisfied: certifi>=2017.4.17 in /opt/conda/lib/python3.7/site-packages (from requests->folium) (2019.6.16)\n",
      "Requirement already satisfied: urllib3!=1.25.0,!=1.25.1,<1.26,>=1.21.1 in /opt/conda/lib/python3.7/site-packages (from requests->folium) (1.25.3)\n",
      "Requirement already satisfied: boto3 in /opt/conda/lib/python3.7/site-packages (1.9.225)\n",
      "Requirement already satisfied: jmespath<1.0.0,>=0.7.1 in /opt/conda/lib/python3.7/site-packages (from boto3) (0.9.4)\n",
      "Requirement already satisfied: botocore<1.13.0,>=1.12.225 in /opt/conda/lib/python3.7/site-packages (from boto3) (1.12.225)\n",
      "Requirement already satisfied: s3transfer<0.3.0,>=0.2.0 in /opt/conda/lib/python3.7/site-packages (from boto3) (0.2.1)\n",
      "Requirement already satisfied: python-dateutil<3.0.0,>=2.1; python_version >= \"2.7\" in /opt/conda/lib/python3.7/site-packages (from botocore<1.13.0,>=1.12.225->boto3) (2.8.0)\n",
      "Requirement already satisfied: urllib3<1.26,>=1.20; python_version >= \"3.4\" in /opt/conda/lib/python3.7/site-packages (from botocore<1.13.0,>=1.12.225->boto3) (1.25.3)\n",
      "Requirement already satisfied: docutils<0.16,>=0.10 in /opt/conda/lib/python3.7/site-packages (from botocore<1.13.0,>=1.12.225->boto3) (0.15.2)\n",
      "Requirement already satisfied: six>=1.5 in /opt/conda/lib/python3.7/site-packages (from python-dateutil<3.0.0,>=2.1; python_version >= \"2.7\"->botocore<1.13.0,>=1.12.225->boto3) (1.12.0)\n",
      "Requirement already satisfied: censusgeocode in /opt/conda/lib/python3.7/site-packages (0.4.3.post1)\n",
      "Requirement already satisfied: requests[security]<3,>=2.18 in /opt/conda/lib/python3.7/site-packages (from censusgeocode) (2.22.0)\n",
      "Requirement already satisfied: requests-toolbelt<1,>=0.8.0 in /opt/conda/lib/python3.7/site-packages (from censusgeocode) (0.9.1)\n",
      "Requirement already satisfied: six in /opt/conda/lib/python3.7/site-packages (from censusgeocode) (1.12.0)\n",
      "Requirement already satisfied: urllib3!=1.25.0,!=1.25.1,<1.26,>=1.21.1 in /opt/conda/lib/python3.7/site-packages (from requests[security]<3,>=2.18->censusgeocode) (1.25.3)\n",
      "Requirement already satisfied: idna<2.9,>=2.5 in /opt/conda/lib/python3.7/site-packages (from requests[security]<3,>=2.18->censusgeocode) (2.8)\n",
      "Requirement already satisfied: certifi>=2017.4.17 in /opt/conda/lib/python3.7/site-packages (from requests[security]<3,>=2.18->censusgeocode) (2019.6.16)\n",
      "Requirement already satisfied: chardet<3.1.0,>=3.0.2 in /opt/conda/lib/python3.7/site-packages (from requests[security]<3,>=2.18->censusgeocode) (3.0.4)\n",
      "Requirement already satisfied: pyOpenSSL>=0.14; extra == \"security\" in /opt/conda/lib/python3.7/site-packages (from requests[security]<3,>=2.18->censusgeocode) (19.0.0)\n",
      "Requirement already satisfied: cryptography>=1.3.4; extra == \"security\" in /opt/conda/lib/python3.7/site-packages (from requests[security]<3,>=2.18->censusgeocode) (2.7)\n",
      "Requirement already satisfied: cffi!=1.11.3,>=1.8 in /opt/conda/lib/python3.7/site-packages (from cryptography>=1.3.4; extra == \"security\"->requests[security]<3,>=2.18->censusgeocode) (1.12.3)\n",
      "Requirement already satisfied: asn1crypto>=0.21.0 in /opt/conda/lib/python3.7/site-packages (from cryptography>=1.3.4; extra == \"security\"->requests[security]<3,>=2.18->censusgeocode) (0.24.0)\n",
      "Requirement already satisfied: pycparser in /opt/conda/lib/python3.7/site-packages (from cffi!=1.11.3,>=1.8->cryptography>=1.3.4; extra == \"security\"->requests[security]<3,>=2.18->censusgeocode) (2.19)\n"
     ]
    }
   ],
   "source": [
    "!pip install folium\n",
    "!pip install boto3\n",
    "!pip install censusgeocode\n",
    "\n",
    "import numpy as np\n",
    "import pandas as pd\n",
    "import folium\n",
    "from folium.plugins import MarkerCluster\n",
    "import boto3\n",
    "import pyspark as ps# for the pyspark suite\n",
    "import census_tract as a\n",
    "import src.api2 as ap\n",
    "import src.co_pipeline3 as pipe\n",
    "\n",
    "\n",
    "\n",
    "\n",
    "spark = ps.sql.SparkSession.builder \\\n",
    "            .master(\"local[4]\") \\\n",
    "            .appName(\"case study\") \\\n",
    "            .getOrCreate()\n",
    "\n",
    "sc = spark.sparkContext\n",
    "\n",
    "s3_connection = boto3.resource('s3')\n",
    "s3_client = boto3.client('s3')\n",
    "\n",
    "#Instantiating the boto resource and client for downloading/uploading files\n"
   ]
  },
  {
   "cell_type": "code",
   "execution_count": 12,
   "metadata": {},
   "outputs": [],
   "source": []
  },
  {
   "cell_type": "code",
   "execution_count": 13,
   "metadata": {},
   "outputs": [],
   "source": [
    "bucket = 'capstone.1'\n",
    "\n",
    "co_sites_df = load_csv_from_s3(bucket, 'co_sites.csv')"
   ]
  },
  {
   "cell_type": "code",
   "execution_count": 17,
   "metadata": {},
   "outputs": [],
   "source": [
    "## Site by number of reservations\n",
    "\n",
    "grpby_obj = co_sites_df.groupby(['Park', 'FacLong', 'FacLat'])\n",
    "co_sites = grpby_obj.count().reset_index(drop=False)\n",
    "co_sites = co_sites.drop(['Location', 'SiteType', 'UseType', 'FacState', 'CustZIP', 'CustCountry', 'CustSize', 'CustLat', 'CustLong','CustState', 'Dist'], axis=1)\n",
    "co_sites = co_sites.rename(columns={'Res_ID':'num_res'})\n",
    "\n",
    "site_map = pipe.all_sites_mapper(co_sites, 'num_res', 40, 'blue')\n",
    "site_map.save('all_sites.html')\n"
   ]
  },
  {
   "cell_type": "code",
   "execution_count": 21,
   "metadata": {},
   "outputs": [],
   "source": [
    "## Sites by mean distance traveled to get to the site\n",
    "\n",
    "cust_dist = grpby_obj.Dist.agg(['min', 'max', 'mean']).reset_index(drop=False)\n",
    "\n",
    "cust_dist_map = pipe.all_sites_mapper(cust_dist, 'mean', 40, 'green')\n",
    "cust_dist_map.save('cust_dist.html')\n"
   ]
  },
  {
   "cell_type": "code",
   "execution_count": 28,
   "metadata": {},
   "outputs": [],
   "source": [
    "mesa_zips = pipe.site_selector('Mesa Verde National Park', co_sites_df)\n",
    "mesa_customers = pipe.site_customer_mapper(mesa_zips, 'Res_Size')\n",
    "mesa_customers.save('mesa_customers.html')"
   ]
  },
  {
   "cell_type": "code",
   "execution_count": 22,
   "metadata": {},
   "outputs": [],
   "source": [
    "ohaver_zips = pipe.site_selector('OHaver Lake --- FPIN46', co_sites_df)"
   ]
  },
  {
   "cell_type": "code",
   "execution_count": 25,
   "metadata": {},
   "outputs": [],
   "source": [
    "ohaver_customers = pipe.site_customer_mapper(ohaver_zips, 'Res_Size')\n",
    "ohaver_customers.save('ohaver_customers.html')"
   ]
  },
  {
   "cell_type": "code",
   "execution_count": 29,
   "metadata": {},
   "outputs": [],
   "source": [
    "## Census Variable Clusters\n",
    "\n",
    "econ_df = load_csv_from_s3(bucket, 'econ_var_names.csv')\n",
    "social_df = load_csv_from_s3(bucket, 'social_var_names.csv')\n",
    "demo_df = load_csv_from_s3(bucket, 'demo_var_names.csv')\n",
    "econ_var_names = econ_df.to_numpy()\n",
    "social_var_names = social_df.to_numpy()\n",
    "demo_var_names = demo_df.to_numpy()\n",
    "\n",
    "econ_clusters = {'Industry': (31, 43), 'Commute': (17, 22), 'Income_Benefits': (50, 59), 'Health_Insurance': (94, 96)}\n",
    "industry = ap.cluster_variables(econ_var_names, econ_clusters['Industry'])\n",
    "commute = ap.cluster_variables(econ_var_names, econ_clusters['Commute'])\n",
    "income_benefits = ap.cluster_variables(econ_var_names, econ_clusters['Income_Benefits'])\n",
    "health = ap.cluster_variables(econ_var_names, econ_clusters['Health_Insurance'])\n",
    "\n",
    "social_clusters = {'Internet': (149, 150), 'Language': (109, 119), 'Education': (57, 65), 'Veteran_Status': (67, 67)}\n",
    "internet = ap.cluster_variables(social_var_names, social_clusters['Internet'])\n",
    "language = ap.cluster_variables(social_var_names, social_clusters['Language'])\n",
    "education = ap.cluster_variables(social_var_names, social_clusters['Education'])\n",
    "vet_status = ap.cluster_variables(social_var_names, social_clusters['Veteran_Status'])\n",
    "\n",
    "demo_clusters = {'Age': (3, 15), 'Gender': (0, 1), 'Race': (35, 54), 'Latino': (71, 74)}\n",
    "age = ap.cluster_variables(demo_var_names, demo_clusters['Age'])\n",
    "gender = ap.cluster_variables(demo_var_names, demo_clusters['Gender'])\n",
    "race = ap.cluster_variables(demo_var_names, demo_clusters['Race'])"
   ]
  },
  {
   "cell_type": "code",
   "execution_count": 40,
   "metadata": {},
   "outputs": [],
   "source": [
    "ohaver_census = pipe.add_census_data(ohaver_zips)"
   ]
  },
  {
   "cell_type": "code",
   "execution_count": 40,
   "metadata": {},
   "outputs": [],
   "source": [
    "ohaver_health = rdd_to_data(ohaver_census, health)"
   ]
  },
  {
   "cell_type": "code",
   "execution_count": 46,
   "metadata": {},
   "outputs": [],
   "source": [
    "ohaver_health_df = arr_to_pandas(ohaver_health, health)\n",
    "export(ohaver_health_df, 'ohaver_health_data.csv', bucket)"
   ]
  },
  {
   "cell_type": "code",
   "execution_count": 41,
   "metadata": {},
   "outputs": [],
   "source": [
    "ohaver_commute = pipe.rdd_to_data(ohaver_census, commute)"
   ]
  },
  {
   "cell_type": "code",
   "execution_count": 49,
   "metadata": {},
   "outputs": [],
   "source": [
    "ohaver_commute_df = pipe.arr_to_pandas(ohaver_commute, commute)\n",
    "pipe.export(ohaver_commute_df, 'ohaver_commute_data.csv', bucket)"
   ]
  },
  {
   "cell_type": "code",
   "execution_count": 8,
   "metadata": {},
   "outputs": [],
   "source": []
  },
  {
   "cell_type": "code",
   "execution_count": 9,
   "metadata": {},
   "outputs": [],
   "source": []
  },
  {
   "cell_type": "code",
   "execution_count": 10,
   "metadata": {},
   "outputs": [],
   "source": []
  },
  {
   "cell_type": "code",
   "execution_count": 11,
   "metadata": {},
   "outputs": [],
   "source": []
  },
  {
   "cell_type": "code",
   "execution_count": 38,
   "metadata": {},
   "outputs": [],
   "source": []
  },
  {
   "cell_type": "code",
   "execution_count": 40,
   "metadata": {},
   "outputs": [],
   "source": []
  },
  {
   "cell_type": "code",
   "execution_count": null,
   "metadata": {},
   "outputs": [],
   "source": []
  }
 ],
 "metadata": {
  "kernelspec": {
   "display_name": "Python 3",
   "language": "python",
   "name": "python3"
  },
  "language_info": {
   "codemirror_mode": {
    "name": "ipython",
    "version": 3
   },
   "file_extension": ".py",
   "mimetype": "text/x-python",
   "name": "python",
   "nbconvert_exporter": "python",
   "pygments_lexer": "ipython3",
   "version": "3.7.3"
  }
 },
 "nbformat": 4,
 "nbformat_minor": 4
}
